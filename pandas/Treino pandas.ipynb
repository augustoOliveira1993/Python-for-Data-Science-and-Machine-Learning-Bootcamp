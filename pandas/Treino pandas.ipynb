{
 "cells": [
  {
   "cell_type": "code",
   "execution_count": 1,
   "metadata": {},
   "outputs": [],
   "source": [
    "import numpy as np\n",
    "import pandas as pd"
   ]
  },
  {
   "cell_type": "code",
   "execution_count": 2,
   "metadata": {},
   "outputs": [],
   "source": [
    "s = pd.Series([1, 3, 5, np.nan, 6,8])"
   ]
  },
  {
   "cell_type": "code",
   "execution_count": 3,
   "metadata": {},
   "outputs": [
    {
     "data": {
      "text/plain": [
       "0    1.0\n",
       "1    3.0\n",
       "2    5.0\n",
       "3    NaN\n",
       "4    6.0\n",
       "5    8.0\n",
       "dtype: float64"
      ]
     },
     "execution_count": 3,
     "metadata": {},
     "output_type": "execute_result"
    }
   ],
   "source": [
    "s"
   ]
  },
  {
   "cell_type": "code",
   "execution_count": 16,
   "metadata": {},
   "outputs": [],
   "source": [
    "dates = pd.date_range(2013010, periods=6)"
   ]
  },
  {
   "cell_type": "code",
   "execution_count": 17,
   "metadata": {},
   "outputs": [
    {
     "data": {
      "text/plain": [
       "DatetimeIndex(['1970-01-01 00:00:00.002013010',\n",
       "               '1970-01-02 00:00:00.002013010',\n",
       "               '1970-01-03 00:00:00.002013010',\n",
       "               '1970-01-04 00:00:00.002013010',\n",
       "               '1970-01-05 00:00:00.002013010',\n",
       "               '1970-01-06 00:00:00.002013010'],\n",
       "              dtype='datetime64[ns]', freq='D')"
      ]
     },
     "execution_count": 17,
     "metadata": {},
     "output_type": "execute_result"
    }
   ],
   "source": [
    "dates"
   ]
  },
  {
   "cell_type": "code",
   "execution_count": 22,
   "metadata": {},
   "outputs": [],
   "source": [
    "df = pd.DataFrame(np.random.randn(6, 4), index=dates, columns=list('ABCD'))"
   ]
  },
  {
   "cell_type": "code",
   "execution_count": 23,
   "metadata": {},
   "outputs": [
    {
     "data": {
      "text/html": [
       "<div>\n",
       "<style scoped>\n",
       "    .dataframe tbody tr th:only-of-type {\n",
       "        vertical-align: middle;\n",
       "    }\n",
       "\n",
       "    .dataframe tbody tr th {\n",
       "        vertical-align: top;\n",
       "    }\n",
       "\n",
       "    .dataframe thead th {\n",
       "        text-align: right;\n",
       "    }\n",
       "</style>\n",
       "<table border=\"1\" class=\"dataframe\">\n",
       "  <thead>\n",
       "    <tr style=\"text-align: right;\">\n",
       "      <th></th>\n",
       "      <th>A</th>\n",
       "      <th>B</th>\n",
       "      <th>C</th>\n",
       "      <th>D</th>\n",
       "    </tr>\n",
       "  </thead>\n",
       "  <tbody>\n",
       "    <tr>\n",
       "      <th>1970-01-01 00:00:00.002013010</th>\n",
       "      <td>-1.982482</td>\n",
       "      <td>-2.978034</td>\n",
       "      <td>-0.411647</td>\n",
       "      <td>-0.094877</td>\n",
       "    </tr>\n",
       "    <tr>\n",
       "      <th>1970-01-02 00:00:00.002013010</th>\n",
       "      <td>0.467085</td>\n",
       "      <td>0.784783</td>\n",
       "      <td>0.338259</td>\n",
       "      <td>0.585738</td>\n",
       "    </tr>\n",
       "    <tr>\n",
       "      <th>1970-01-03 00:00:00.002013010</th>\n",
       "      <td>0.060257</td>\n",
       "      <td>0.299370</td>\n",
       "      <td>0.538157</td>\n",
       "      <td>-0.815002</td>\n",
       "    </tr>\n",
       "    <tr>\n",
       "      <th>1970-01-04 00:00:00.002013010</th>\n",
       "      <td>-0.178031</td>\n",
       "      <td>-0.842260</td>\n",
       "      <td>-1.875565</td>\n",
       "      <td>-0.071722</td>\n",
       "    </tr>\n",
       "    <tr>\n",
       "      <th>1970-01-05 00:00:00.002013010</th>\n",
       "      <td>-1.220202</td>\n",
       "      <td>0.074153</td>\n",
       "      <td>-0.760660</td>\n",
       "      <td>1.972341</td>\n",
       "    </tr>\n",
       "    <tr>\n",
       "      <th>1970-01-06 00:00:00.002013010</th>\n",
       "      <td>-1.032685</td>\n",
       "      <td>-0.161429</td>\n",
       "      <td>2.487085</td>\n",
       "      <td>0.069793</td>\n",
       "    </tr>\n",
       "  </tbody>\n",
       "</table>\n",
       "</div>"
      ],
      "text/plain": [
       "                                      A         B         C         D\n",
       "1970-01-01 00:00:00.002013010 -1.982482 -2.978034 -0.411647 -0.094877\n",
       "1970-01-02 00:00:00.002013010  0.467085  0.784783  0.338259  0.585738\n",
       "1970-01-03 00:00:00.002013010  0.060257  0.299370  0.538157 -0.815002\n",
       "1970-01-04 00:00:00.002013010 -0.178031 -0.842260 -1.875565 -0.071722\n",
       "1970-01-05 00:00:00.002013010 -1.220202  0.074153 -0.760660  1.972341\n",
       "1970-01-06 00:00:00.002013010 -1.032685 -0.161429  2.487085  0.069793"
      ]
     },
     "execution_count": 23,
     "metadata": {},
     "output_type": "execute_result"
    }
   ],
   "source": [
    "df"
   ]
  },
  {
   "cell_type": "code",
   "execution_count": 30,
   "metadata": {},
   "outputs": [],
   "source": [
    "df2 = pd.DataFrame(\n",
    "{\n",
    "    'A': 1.0,\n",
    "    \"B\": pd.Timestamp(\"20130102\"),\n",
    "    'C': pd.Series(1, index=list(range(4)), dtype='float32'),\n",
    "    'D': np.array([3] * 4, dtype='int32'),\n",
    "    'E': pd.Categorical(['teste', 'train', 'test', 'train']),\n",
    "    'F': 'Foo'\n",
    "})"
   ]
  },
  {
   "cell_type": "code",
   "execution_count": 31,
   "metadata": {},
   "outputs": [
    {
     "data": {
      "text/html": [
       "<div>\n",
       "<style scoped>\n",
       "    .dataframe tbody tr th:only-of-type {\n",
       "        vertical-align: middle;\n",
       "    }\n",
       "\n",
       "    .dataframe tbody tr th {\n",
       "        vertical-align: top;\n",
       "    }\n",
       "\n",
       "    .dataframe thead th {\n",
       "        text-align: right;\n",
       "    }\n",
       "</style>\n",
       "<table border=\"1\" class=\"dataframe\">\n",
       "  <thead>\n",
       "    <tr style=\"text-align: right;\">\n",
       "      <th></th>\n",
       "      <th>A</th>\n",
       "      <th>B</th>\n",
       "      <th>C</th>\n",
       "      <th>D</th>\n",
       "      <th>E</th>\n",
       "      <th>F</th>\n",
       "    </tr>\n",
       "  </thead>\n",
       "  <tbody>\n",
       "    <tr>\n",
       "      <th>0</th>\n",
       "      <td>1.0</td>\n",
       "      <td>2013-01-02</td>\n",
       "      <td>1.0</td>\n",
       "      <td>3</td>\n",
       "      <td>teste</td>\n",
       "      <td>Foo</td>\n",
       "    </tr>\n",
       "    <tr>\n",
       "      <th>1</th>\n",
       "      <td>1.0</td>\n",
       "      <td>2013-01-02</td>\n",
       "      <td>1.0</td>\n",
       "      <td>3</td>\n",
       "      <td>train</td>\n",
       "      <td>Foo</td>\n",
       "    </tr>\n",
       "    <tr>\n",
       "      <th>2</th>\n",
       "      <td>1.0</td>\n",
       "      <td>2013-01-02</td>\n",
       "      <td>1.0</td>\n",
       "      <td>3</td>\n",
       "      <td>test</td>\n",
       "      <td>Foo</td>\n",
       "    </tr>\n",
       "    <tr>\n",
       "      <th>3</th>\n",
       "      <td>1.0</td>\n",
       "      <td>2013-01-02</td>\n",
       "      <td>1.0</td>\n",
       "      <td>3</td>\n",
       "      <td>train</td>\n",
       "      <td>Foo</td>\n",
       "    </tr>\n",
       "  </tbody>\n",
       "</table>\n",
       "</div>"
      ],
      "text/plain": [
       "     A          B    C  D      E    F\n",
       "0  1.0 2013-01-02  1.0  3  teste  Foo\n",
       "1  1.0 2013-01-02  1.0  3  train  Foo\n",
       "2  1.0 2013-01-02  1.0  3   test  Foo\n",
       "3  1.0 2013-01-02  1.0  3  train  Foo"
      ]
     },
     "execution_count": 31,
     "metadata": {},
     "output_type": "execute_result"
    }
   ],
   "source": [
    "df2"
   ]
  },
  {
   "cell_type": "code",
   "execution_count": 32,
   "metadata": {},
   "outputs": [
    {
     "data": {
      "text/plain": [
       "A           float64\n",
       "B    datetime64[ns]\n",
       "C           float32\n",
       "D             int32\n",
       "E          category\n",
       "F            object\n",
       "dtype: object"
      ]
     },
     "execution_count": 32,
     "metadata": {},
     "output_type": "execute_result"
    }
   ],
   "source": [
    "df2.dtypes"
   ]
  },
  {
   "cell_type": "code",
   "execution_count": 35,
   "metadata": {},
   "outputs": [
    {
     "data": {
      "text/html": [
       "<div>\n",
       "<style scoped>\n",
       "    .dataframe tbody tr th:only-of-type {\n",
       "        vertical-align: middle;\n",
       "    }\n",
       "\n",
       "    .dataframe tbody tr th {\n",
       "        vertical-align: top;\n",
       "    }\n",
       "\n",
       "    .dataframe thead th {\n",
       "        text-align: right;\n",
       "    }\n",
       "</style>\n",
       "<table border=\"1\" class=\"dataframe\">\n",
       "  <thead>\n",
       "    <tr style=\"text-align: right;\">\n",
       "      <th></th>\n",
       "      <th>A</th>\n",
       "      <th>B</th>\n",
       "      <th>C</th>\n",
       "      <th>D</th>\n",
       "      <th>E</th>\n",
       "      <th>F</th>\n",
       "    </tr>\n",
       "  </thead>\n",
       "  <tbody>\n",
       "    <tr>\n",
       "      <th>0</th>\n",
       "      <td>1.0</td>\n",
       "      <td>2013-01-02</td>\n",
       "      <td>1.0</td>\n",
       "      <td>3</td>\n",
       "      <td>teste</td>\n",
       "      <td>Foo</td>\n",
       "    </tr>\n",
       "    <tr>\n",
       "      <th>1</th>\n",
       "      <td>1.0</td>\n",
       "      <td>2013-01-02</td>\n",
       "      <td>1.0</td>\n",
       "      <td>3</td>\n",
       "      <td>train</td>\n",
       "      <td>Foo</td>\n",
       "    </tr>\n",
       "    <tr>\n",
       "      <th>2</th>\n",
       "      <td>1.0</td>\n",
       "      <td>2013-01-02</td>\n",
       "      <td>1.0</td>\n",
       "      <td>3</td>\n",
       "      <td>test</td>\n",
       "      <td>Foo</td>\n",
       "    </tr>\n",
       "    <tr>\n",
       "      <th>3</th>\n",
       "      <td>1.0</td>\n",
       "      <td>2013-01-02</td>\n",
       "      <td>1.0</td>\n",
       "      <td>3</td>\n",
       "      <td>train</td>\n",
       "      <td>Foo</td>\n",
       "    </tr>\n",
       "  </tbody>\n",
       "</table>\n",
       "</div>"
      ],
      "text/plain": [
       "     A          B    C  D      E    F\n",
       "0  1.0 2013-01-02  1.0  3  teste  Foo\n",
       "1  1.0 2013-01-02  1.0  3  train  Foo\n",
       "2  1.0 2013-01-02  1.0  3   test  Foo\n",
       "3  1.0 2013-01-02  1.0  3  train  Foo"
      ]
     },
     "execution_count": 35,
     "metadata": {},
     "output_type": "execute_result"
    }
   ],
   "source": [
    "df2.head()"
   ]
  },
  {
   "cell_type": "code",
   "execution_count": 36,
   "metadata": {},
   "outputs": [
    {
     "data": {
      "text/html": [
       "<div>\n",
       "<style scoped>\n",
       "    .dataframe tbody tr th:only-of-type {\n",
       "        vertical-align: middle;\n",
       "    }\n",
       "\n",
       "    .dataframe tbody tr th {\n",
       "        vertical-align: top;\n",
       "    }\n",
       "\n",
       "    .dataframe thead th {\n",
       "        text-align: right;\n",
       "    }\n",
       "</style>\n",
       "<table border=\"1\" class=\"dataframe\">\n",
       "  <thead>\n",
       "    <tr style=\"text-align: right;\">\n",
       "      <th></th>\n",
       "      <th>A</th>\n",
       "      <th>B</th>\n",
       "      <th>C</th>\n",
       "      <th>D</th>\n",
       "      <th>E</th>\n",
       "      <th>F</th>\n",
       "    </tr>\n",
       "  </thead>\n",
       "  <tbody>\n",
       "    <tr>\n",
       "      <th>1</th>\n",
       "      <td>1.0</td>\n",
       "      <td>2013-01-02</td>\n",
       "      <td>1.0</td>\n",
       "      <td>3</td>\n",
       "      <td>train</td>\n",
       "      <td>Foo</td>\n",
       "    </tr>\n",
       "    <tr>\n",
       "      <th>2</th>\n",
       "      <td>1.0</td>\n",
       "      <td>2013-01-02</td>\n",
       "      <td>1.0</td>\n",
       "      <td>3</td>\n",
       "      <td>test</td>\n",
       "      <td>Foo</td>\n",
       "    </tr>\n",
       "    <tr>\n",
       "      <th>3</th>\n",
       "      <td>1.0</td>\n",
       "      <td>2013-01-02</td>\n",
       "      <td>1.0</td>\n",
       "      <td>3</td>\n",
       "      <td>train</td>\n",
       "      <td>Foo</td>\n",
       "    </tr>\n",
       "  </tbody>\n",
       "</table>\n",
       "</div>"
      ],
      "text/plain": [
       "     A          B    C  D      E    F\n",
       "1  1.0 2013-01-02  1.0  3  train  Foo\n",
       "2  1.0 2013-01-02  1.0  3   test  Foo\n",
       "3  1.0 2013-01-02  1.0  3  train  Foo"
      ]
     },
     "execution_count": 36,
     "metadata": {},
     "output_type": "execute_result"
    }
   ],
   "source": [
    "df2.tail(3)"
   ]
  },
  {
   "cell_type": "code",
   "execution_count": 37,
   "metadata": {},
   "outputs": [
    {
     "data": {
      "text/plain": [
       "Int64Index([0, 1, 2, 3], dtype='int64')"
      ]
     },
     "execution_count": 37,
     "metadata": {},
     "output_type": "execute_result"
    }
   ],
   "source": [
    "df2.index"
   ]
  },
  {
   "cell_type": "code",
   "execution_count": 38,
   "metadata": {},
   "outputs": [
    {
     "data": {
      "text/plain": [
       "Index(['A', 'B', 'C', 'D'], dtype='object')"
      ]
     },
     "execution_count": 38,
     "metadata": {},
     "output_type": "execute_result"
    }
   ],
   "source": [
    "df.columns"
   ]
  },
  {
   "cell_type": "code",
   "execution_count": 39,
   "metadata": {},
   "outputs": [
    {
     "data": {
      "text/plain": [
       "array([[1.0, Timestamp('2013-01-02 00:00:00'), 1.0, 3, 'teste', 'Foo'],\n",
       "       [1.0, Timestamp('2013-01-02 00:00:00'), 1.0, 3, 'train', 'Foo'],\n",
       "       [1.0, Timestamp('2013-01-02 00:00:00'), 1.0, 3, 'test', 'Foo'],\n",
       "       [1.0, Timestamp('2013-01-02 00:00:00'), 1.0, 3, 'train', 'Foo']],\n",
       "      dtype=object)"
      ]
     },
     "execution_count": 39,
     "metadata": {},
     "output_type": "execute_result"
    }
   ],
   "source": [
    "df2.to_numpy()"
   ]
  },
  {
   "cell_type": "code",
   "execution_count": 40,
   "metadata": {},
   "outputs": [
    {
     "data": {
      "text/plain": [
       "array([[-1.98248233, -2.97803365, -0.41164674, -0.09487729],\n",
       "       [ 0.46708457,  0.78478301,  0.33825904,  0.58573753],\n",
       "       [ 0.0602567 ,  0.29936998,  0.53815661, -0.81500172],\n",
       "       [-0.17803093, -0.84226023, -1.87556534, -0.07172231],\n",
       "       [-1.22020155,  0.07415253, -0.76065961,  1.97234139],\n",
       "       [-1.0326848 , -0.16142944,  2.48708489,  0.06979263]])"
      ]
     },
     "execution_count": 40,
     "metadata": {},
     "output_type": "execute_result"
    }
   ],
   "source": [
    "df.to_numpy()"
   ]
  },
  {
   "cell_type": "code",
   "execution_count": 41,
   "metadata": {},
   "outputs": [
    {
     "data": {
      "text/html": [
       "<div>\n",
       "<style scoped>\n",
       "    .dataframe tbody tr th:only-of-type {\n",
       "        vertical-align: middle;\n",
       "    }\n",
       "\n",
       "    .dataframe tbody tr th {\n",
       "        vertical-align: top;\n",
       "    }\n",
       "\n",
       "    .dataframe thead th {\n",
       "        text-align: right;\n",
       "    }\n",
       "</style>\n",
       "<table border=\"1\" class=\"dataframe\">\n",
       "  <thead>\n",
       "    <tr style=\"text-align: right;\">\n",
       "      <th></th>\n",
       "      <th>A</th>\n",
       "      <th>B</th>\n",
       "      <th>C</th>\n",
       "      <th>D</th>\n",
       "    </tr>\n",
       "  </thead>\n",
       "  <tbody>\n",
       "    <tr>\n",
       "      <th>count</th>\n",
       "      <td>6.000000</td>\n",
       "      <td>6.000000</td>\n",
       "      <td>6.000000</td>\n",
       "      <td>6.000000</td>\n",
       "    </tr>\n",
       "    <tr>\n",
       "      <th>mean</th>\n",
       "      <td>-0.647676</td>\n",
       "      <td>-0.470570</td>\n",
       "      <td>0.052605</td>\n",
       "      <td>0.274378</td>\n",
       "    </tr>\n",
       "    <tr>\n",
       "      <th>std</th>\n",
       "      <td>0.918929</td>\n",
       "      <td>1.340637</td>\n",
       "      <td>1.472333</td>\n",
       "      <td>0.944962</td>\n",
       "    </tr>\n",
       "    <tr>\n",
       "      <th>min</th>\n",
       "      <td>-1.982482</td>\n",
       "      <td>-2.978034</td>\n",
       "      <td>-1.875565</td>\n",
       "      <td>-0.815002</td>\n",
       "    </tr>\n",
       "    <tr>\n",
       "      <th>25%</th>\n",
       "      <td>-1.173322</td>\n",
       "      <td>-0.672053</td>\n",
       "      <td>-0.673406</td>\n",
       "      <td>-0.089089</td>\n",
       "    </tr>\n",
       "    <tr>\n",
       "      <th>50%</th>\n",
       "      <td>-0.605358</td>\n",
       "      <td>-0.043638</td>\n",
       "      <td>-0.036694</td>\n",
       "      <td>-0.000965</td>\n",
       "    </tr>\n",
       "    <tr>\n",
       "      <th>75%</th>\n",
       "      <td>0.000685</td>\n",
       "      <td>0.243066</td>\n",
       "      <td>0.488182</td>\n",
       "      <td>0.456751</td>\n",
       "    </tr>\n",
       "    <tr>\n",
       "      <th>max</th>\n",
       "      <td>0.467085</td>\n",
       "      <td>0.784783</td>\n",
       "      <td>2.487085</td>\n",
       "      <td>1.972341</td>\n",
       "    </tr>\n",
       "  </tbody>\n",
       "</table>\n",
       "</div>"
      ],
      "text/plain": [
       "              A         B         C         D\n",
       "count  6.000000  6.000000  6.000000  6.000000\n",
       "mean  -0.647676 -0.470570  0.052605  0.274378\n",
       "std    0.918929  1.340637  1.472333  0.944962\n",
       "min   -1.982482 -2.978034 -1.875565 -0.815002\n",
       "25%   -1.173322 -0.672053 -0.673406 -0.089089\n",
       "50%   -0.605358 -0.043638 -0.036694 -0.000965\n",
       "75%    0.000685  0.243066  0.488182  0.456751\n",
       "max    0.467085  0.784783  2.487085  1.972341"
      ]
     },
     "execution_count": 41,
     "metadata": {},
     "output_type": "execute_result"
    }
   ],
   "source": [
    "df.describe()"
   ]
  },
  {
   "cell_type": "code",
   "execution_count": 42,
   "metadata": {},
   "outputs": [
    {
     "data": {
      "text/html": [
       "<div>\n",
       "<style scoped>\n",
       "    .dataframe tbody tr th:only-of-type {\n",
       "        vertical-align: middle;\n",
       "    }\n",
       "\n",
       "    .dataframe tbody tr th {\n",
       "        vertical-align: top;\n",
       "    }\n",
       "\n",
       "    .dataframe thead th {\n",
       "        text-align: right;\n",
       "    }\n",
       "</style>\n",
       "<table border=\"1\" class=\"dataframe\">\n",
       "  <thead>\n",
       "    <tr style=\"text-align: right;\">\n",
       "      <th></th>\n",
       "      <th>1970-01-01 00:00:00.002013010</th>\n",
       "      <th>1970-01-02 00:00:00.002013010</th>\n",
       "      <th>1970-01-03 00:00:00.002013010</th>\n",
       "      <th>1970-01-04 00:00:00.002013010</th>\n",
       "      <th>1970-01-05 00:00:00.002013010</th>\n",
       "      <th>1970-01-06 00:00:00.002013010</th>\n",
       "    </tr>\n",
       "  </thead>\n",
       "  <tbody>\n",
       "    <tr>\n",
       "      <th>A</th>\n",
       "      <td>-1.982482</td>\n",
       "      <td>0.467085</td>\n",
       "      <td>0.060257</td>\n",
       "      <td>-0.178031</td>\n",
       "      <td>-1.220202</td>\n",
       "      <td>-1.032685</td>\n",
       "    </tr>\n",
       "    <tr>\n",
       "      <th>B</th>\n",
       "      <td>-2.978034</td>\n",
       "      <td>0.784783</td>\n",
       "      <td>0.299370</td>\n",
       "      <td>-0.842260</td>\n",
       "      <td>0.074153</td>\n",
       "      <td>-0.161429</td>\n",
       "    </tr>\n",
       "    <tr>\n",
       "      <th>C</th>\n",
       "      <td>-0.411647</td>\n",
       "      <td>0.338259</td>\n",
       "      <td>0.538157</td>\n",
       "      <td>-1.875565</td>\n",
       "      <td>-0.760660</td>\n",
       "      <td>2.487085</td>\n",
       "    </tr>\n",
       "    <tr>\n",
       "      <th>D</th>\n",
       "      <td>-0.094877</td>\n",
       "      <td>0.585738</td>\n",
       "      <td>-0.815002</td>\n",
       "      <td>-0.071722</td>\n",
       "      <td>1.972341</td>\n",
       "      <td>0.069793</td>\n",
       "    </tr>\n",
       "  </tbody>\n",
       "</table>\n",
       "</div>"
      ],
      "text/plain": [
       "   1970-01-01 00:00:00.002013010  1970-01-02 00:00:00.002013010  \\\n",
       "A                      -1.982482                       0.467085   \n",
       "B                      -2.978034                       0.784783   \n",
       "C                      -0.411647                       0.338259   \n",
       "D                      -0.094877                       0.585738   \n",
       "\n",
       "   1970-01-03 00:00:00.002013010  1970-01-04 00:00:00.002013010  \\\n",
       "A                       0.060257                      -0.178031   \n",
       "B                       0.299370                      -0.842260   \n",
       "C                       0.538157                      -1.875565   \n",
       "D                      -0.815002                      -0.071722   \n",
       "\n",
       "   1970-01-05 00:00:00.002013010  1970-01-06 00:00:00.002013010  \n",
       "A                      -1.220202                      -1.032685  \n",
       "B                       0.074153                      -0.161429  \n",
       "C                      -0.760660                       2.487085  \n",
       "D                       1.972341                       0.069793  "
      ]
     },
     "execution_count": 42,
     "metadata": {},
     "output_type": "execute_result"
    }
   ],
   "source": [
    "df.T"
   ]
  },
  {
   "cell_type": "code",
   "execution_count": 43,
   "metadata": {},
   "outputs": [
    {
     "data": {
      "text/html": [
       "<div>\n",
       "<style scoped>\n",
       "    .dataframe tbody tr th:only-of-type {\n",
       "        vertical-align: middle;\n",
       "    }\n",
       "\n",
       "    .dataframe tbody tr th {\n",
       "        vertical-align: top;\n",
       "    }\n",
       "\n",
       "    .dataframe thead th {\n",
       "        text-align: right;\n",
       "    }\n",
       "</style>\n",
       "<table border=\"1\" class=\"dataframe\">\n",
       "  <thead>\n",
       "    <tr style=\"text-align: right;\">\n",
       "      <th></th>\n",
       "      <th>D</th>\n",
       "      <th>C</th>\n",
       "      <th>B</th>\n",
       "      <th>A</th>\n",
       "    </tr>\n",
       "  </thead>\n",
       "  <tbody>\n",
       "    <tr>\n",
       "      <th>1970-01-01 00:00:00.002013010</th>\n",
       "      <td>-0.094877</td>\n",
       "      <td>-0.411647</td>\n",
       "      <td>-2.978034</td>\n",
       "      <td>-1.982482</td>\n",
       "    </tr>\n",
       "    <tr>\n",
       "      <th>1970-01-02 00:00:00.002013010</th>\n",
       "      <td>0.585738</td>\n",
       "      <td>0.338259</td>\n",
       "      <td>0.784783</td>\n",
       "      <td>0.467085</td>\n",
       "    </tr>\n",
       "    <tr>\n",
       "      <th>1970-01-03 00:00:00.002013010</th>\n",
       "      <td>-0.815002</td>\n",
       "      <td>0.538157</td>\n",
       "      <td>0.299370</td>\n",
       "      <td>0.060257</td>\n",
       "    </tr>\n",
       "    <tr>\n",
       "      <th>1970-01-04 00:00:00.002013010</th>\n",
       "      <td>-0.071722</td>\n",
       "      <td>-1.875565</td>\n",
       "      <td>-0.842260</td>\n",
       "      <td>-0.178031</td>\n",
       "    </tr>\n",
       "    <tr>\n",
       "      <th>1970-01-05 00:00:00.002013010</th>\n",
       "      <td>1.972341</td>\n",
       "      <td>-0.760660</td>\n",
       "      <td>0.074153</td>\n",
       "      <td>-1.220202</td>\n",
       "    </tr>\n",
       "    <tr>\n",
       "      <th>1970-01-06 00:00:00.002013010</th>\n",
       "      <td>0.069793</td>\n",
       "      <td>2.487085</td>\n",
       "      <td>-0.161429</td>\n",
       "      <td>-1.032685</td>\n",
       "    </tr>\n",
       "  </tbody>\n",
       "</table>\n",
       "</div>"
      ],
      "text/plain": [
       "                                      D         C         B         A\n",
       "1970-01-01 00:00:00.002013010 -0.094877 -0.411647 -2.978034 -1.982482\n",
       "1970-01-02 00:00:00.002013010  0.585738  0.338259  0.784783  0.467085\n",
       "1970-01-03 00:00:00.002013010 -0.815002  0.538157  0.299370  0.060257\n",
       "1970-01-04 00:00:00.002013010 -0.071722 -1.875565 -0.842260 -0.178031\n",
       "1970-01-05 00:00:00.002013010  1.972341 -0.760660  0.074153 -1.220202\n",
       "1970-01-06 00:00:00.002013010  0.069793  2.487085 -0.161429 -1.032685"
      ]
     },
     "execution_count": 43,
     "metadata": {},
     "output_type": "execute_result"
    }
   ],
   "source": [
    "df.sort_index(axis=1, ascending=False)"
   ]
  },
  {
   "cell_type": "code",
   "execution_count": 44,
   "metadata": {},
   "outputs": [
    {
     "data": {
      "text/html": [
       "<div>\n",
       "<style scoped>\n",
       "    .dataframe tbody tr th:only-of-type {\n",
       "        vertical-align: middle;\n",
       "    }\n",
       "\n",
       "    .dataframe tbody tr th {\n",
       "        vertical-align: top;\n",
       "    }\n",
       "\n",
       "    .dataframe thead th {\n",
       "        text-align: right;\n",
       "    }\n",
       "</style>\n",
       "<table border=\"1\" class=\"dataframe\">\n",
       "  <thead>\n",
       "    <tr style=\"text-align: right;\">\n",
       "      <th></th>\n",
       "      <th>A</th>\n",
       "      <th>B</th>\n",
       "      <th>C</th>\n",
       "      <th>D</th>\n",
       "    </tr>\n",
       "  </thead>\n",
       "  <tbody>\n",
       "    <tr>\n",
       "      <th>1970-01-01 00:00:00.002013010</th>\n",
       "      <td>-1.982482</td>\n",
       "      <td>-2.978034</td>\n",
       "      <td>-0.411647</td>\n",
       "      <td>-0.094877</td>\n",
       "    </tr>\n",
       "    <tr>\n",
       "      <th>1970-01-04 00:00:00.002013010</th>\n",
       "      <td>-0.178031</td>\n",
       "      <td>-0.842260</td>\n",
       "      <td>-1.875565</td>\n",
       "      <td>-0.071722</td>\n",
       "    </tr>\n",
       "    <tr>\n",
       "      <th>1970-01-06 00:00:00.002013010</th>\n",
       "      <td>-1.032685</td>\n",
       "      <td>-0.161429</td>\n",
       "      <td>2.487085</td>\n",
       "      <td>0.069793</td>\n",
       "    </tr>\n",
       "    <tr>\n",
       "      <th>1970-01-05 00:00:00.002013010</th>\n",
       "      <td>-1.220202</td>\n",
       "      <td>0.074153</td>\n",
       "      <td>-0.760660</td>\n",
       "      <td>1.972341</td>\n",
       "    </tr>\n",
       "    <tr>\n",
       "      <th>1970-01-03 00:00:00.002013010</th>\n",
       "      <td>0.060257</td>\n",
       "      <td>0.299370</td>\n",
       "      <td>0.538157</td>\n",
       "      <td>-0.815002</td>\n",
       "    </tr>\n",
       "    <tr>\n",
       "      <th>1970-01-02 00:00:00.002013010</th>\n",
       "      <td>0.467085</td>\n",
       "      <td>0.784783</td>\n",
       "      <td>0.338259</td>\n",
       "      <td>0.585738</td>\n",
       "    </tr>\n",
       "  </tbody>\n",
       "</table>\n",
       "</div>"
      ],
      "text/plain": [
       "                                      A         B         C         D\n",
       "1970-01-01 00:00:00.002013010 -1.982482 -2.978034 -0.411647 -0.094877\n",
       "1970-01-04 00:00:00.002013010 -0.178031 -0.842260 -1.875565 -0.071722\n",
       "1970-01-06 00:00:00.002013010 -1.032685 -0.161429  2.487085  0.069793\n",
       "1970-01-05 00:00:00.002013010 -1.220202  0.074153 -0.760660  1.972341\n",
       "1970-01-03 00:00:00.002013010  0.060257  0.299370  0.538157 -0.815002\n",
       "1970-01-02 00:00:00.002013010  0.467085  0.784783  0.338259  0.585738"
      ]
     },
     "execution_count": 44,
     "metadata": {},
     "output_type": "execute_result"
    }
   ],
   "source": [
    "df.sort_values(by='B')"
   ]
  },
  {
   "cell_type": "code",
   "execution_count": 45,
   "metadata": {},
   "outputs": [
    {
     "data": {
      "text/plain": [
       "1970-01-01 00:00:00.002013010   -1.982482\n",
       "1970-01-02 00:00:00.002013010    0.467085\n",
       "1970-01-03 00:00:00.002013010    0.060257\n",
       "1970-01-04 00:00:00.002013010   -0.178031\n",
       "1970-01-05 00:00:00.002013010   -1.220202\n",
       "1970-01-06 00:00:00.002013010   -1.032685\n",
       "Freq: D, Name: A, dtype: float64"
      ]
     },
     "execution_count": 45,
     "metadata": {},
     "output_type": "execute_result"
    }
   ],
   "source": [
    "df['A']"
   ]
  },
  {
   "cell_type": "code",
   "execution_count": null,
   "metadata": {},
   "outputs": [],
   "source": []
  }
 ],
 "metadata": {
  "kernelspec": {
   "display_name": "Python 3",
   "language": "python",
   "name": "python3"
  },
  "language_info": {
   "codemirror_mode": {
    "name": "ipython",
    "version": 3
   },
   "file_extension": ".py",
   "mimetype": "text/x-python",
   "name": "python",
   "nbconvert_exporter": "python",
   "pygments_lexer": "ipython3",
   "version": "3.8.5"
  }
 },
 "nbformat": 4,
 "nbformat_minor": 4
}
